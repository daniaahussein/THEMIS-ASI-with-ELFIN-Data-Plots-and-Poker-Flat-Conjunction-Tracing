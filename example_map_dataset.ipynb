{
 "cells": [
  {
   "cell_type": "code",
   "execution_count": null,
   "id": "initial_id",
   "metadata": {
    "collapsed": true
   },
   "outputs": [],
   "source": [
    "from themis_map_dataset_class import *\n",
    "import datetime\n",
    "\n",
    "# testing object examples\n",
    "\n",
    "plot1 = ThemisMapDataset(\n",
    "    datetime.datetime(2022, 3, 5, 12, 25),\n",
    "    datetime.datetime(2022, 3, 5, 12, 30),\n",
    "    ['atha', 'fsmi', 'fsim']\n",
    ")\n",
    "\n",
    "print(plot1)\n",
    "\n",
    "plot1.mosaic_satellite_overplot('elfinb')\n",
    " \n",
    "plot1.gen_movie(\"themis_atha_2022_03_05_12_25_12_30_movie.png\")\n",
    " \n",
    "plot1.mosaic_satellite_movie(\"elfinb\")\n",
    "\n",
    "plot1.bounded_magnetic_lat_satellite_trace(\"elfinb\", end=datetime.datetime(2022, 3, 5, 12, 28), site_uid='fsim')\n",
    "\n",
    "# implementation displays included in GitHub folder\n",
    "# plots must be run on a Jupyter Notebook file for optimal data retrieval and processing"
   ]
  }
 ],
 "metadata": {
  "kernelspec": {
   "display_name": "Python 3",
   "language": "python",
   "name": "python3"
  },
  "language_info": {
   "codemirror_mode": {
    "name": "ipython",
    "version": 2
   },
   "file_extension": ".py",
   "mimetype": "text/x-python",
   "name": "python",
   "nbconvert_exporter": "python",
   "pygments_lexer": "ipython2",
   "version": "2.7.6"
  }
 },
 "nbformat": 4,
 "nbformat_minor": 5
}
